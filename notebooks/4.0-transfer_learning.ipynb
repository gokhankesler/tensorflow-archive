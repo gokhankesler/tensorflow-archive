{
 "cells": [
  {
   "cell_type": "code",
   "execution_count": 1,
   "metadata": {},
   "outputs": [],
   "source": [
    "import zipfile"
   ]
  },
  {
   "cell_type": "code",
   "execution_count": 2,
   "metadata": {},
   "outputs": [],
   "source": [
    "# !wget https://storage.googleapis.com/ztm_tf_course/food_vision/10_food_classes_10_percent.zip\n",
    "# zip_ext = zipfile.ZipFile('10_food_classes_10_percent.zip', 'r')\n",
    "# zip_ext.extractall()\n",
    "# zip_ext.close()"
   ]
  },
  {
   "cell_type": "code",
   "execution_count": 3,
   "metadata": {},
   "outputs": [
    {
     "name": "stdout",
     "output_type": "stream",
     "text": [
      "there are 2 directories and 0 in 10_food_classes_10_percent\n",
      "there are 10 directories and 0 in 10_food_classes_10_percent/test\n",
      "there are 0 directories and 250 in 10_food_classes_10_percent/test/ice_cream\n",
      "there are 0 directories and 250 in 10_food_classes_10_percent/test/chicken_curry\n",
      "there are 0 directories and 250 in 10_food_classes_10_percent/test/steak\n",
      "there are 0 directories and 250 in 10_food_classes_10_percent/test/sushi\n",
      "there are 0 directories and 250 in 10_food_classes_10_percent/test/chicken_wings\n",
      "there are 0 directories and 250 in 10_food_classes_10_percent/test/grilled_salmon\n",
      "there are 0 directories and 250 in 10_food_classes_10_percent/test/hamburger\n",
      "there are 0 directories and 250 in 10_food_classes_10_percent/test/pizza\n",
      "there are 0 directories and 250 in 10_food_classes_10_percent/test/ramen\n",
      "there are 0 directories and 250 in 10_food_classes_10_percent/test/fried_rice\n",
      "there are 10 directories and 0 in 10_food_classes_10_percent/train\n",
      "there are 0 directories and 75 in 10_food_classes_10_percent/train/ice_cream\n",
      "there are 0 directories and 75 in 10_food_classes_10_percent/train/chicken_curry\n",
      "there are 0 directories and 75 in 10_food_classes_10_percent/train/steak\n",
      "there are 0 directories and 75 in 10_food_classes_10_percent/train/sushi\n",
      "there are 0 directories and 75 in 10_food_classes_10_percent/train/chicken_wings\n",
      "there are 0 directories and 75 in 10_food_classes_10_percent/train/grilled_salmon\n",
      "there are 0 directories and 75 in 10_food_classes_10_percent/train/hamburger\n",
      "there are 0 directories and 75 in 10_food_classes_10_percent/train/pizza\n",
      "there are 0 directories and 75 in 10_food_classes_10_percent/train/ramen\n",
      "there are 0 directories and 75 in 10_food_classes_10_percent/train/fried_rice\n"
     ]
    }
   ],
   "source": [
    "import os\n",
    "\n",
    "for dirpath, dirnames, filenames in os.walk('10_food_classes_10_percent'):\n",
    "    print(f'there are {len(dirnames)} directories and {len(filenames)} in {dirpath}')"
   ]
  },
  {
   "cell_type": "code",
   "execution_count": 4,
   "metadata": {},
   "outputs": [],
   "source": [
    "from tensorflow.keras.preprocessing.image import ImageDataGenerator"
   ]
  },
  {
   "cell_type": "code",
   "execution_count": 5,
   "metadata": {},
   "outputs": [],
   "source": [
    "IMAGE_SHAPE = (224, 224)\n",
    "BATCH_SIZE = 32\n",
    "EPOCHS = 5\n",
    "\n",
    "train_dir ='10_food_classes_10_percent/train'\n",
    "test_dir ='10_food_classes_10_percent/test'"
   ]
  },
  {
   "cell_type": "code",
   "execution_count": 6,
   "metadata": {},
   "outputs": [
    {
     "name": "stdout",
     "output_type": "stream",
     "text": [
      "training images:\n",
      "Found 750 images belonging to 10 classes.\n",
      "testing images:\n",
      "Found 2500 images belonging to 10 classes.\n"
     ]
    }
   ],
   "source": [
    "train_datagen = ImageDataGenerator(rescale=1./255)\n",
    "test_datagen = ImageDataGenerator(rescale=1./255)\n",
    "\n",
    "print('training images:')\n",
    "train_data = train_datagen.flow_from_directory(\n",
    "    train_dir,\n",
    "    target_size=IMAGE_SHAPE,\n",
    "    batch_size=BATCH_SIZE,\n",
    "    class_mode='categorical')\n",
    "\n",
    "\n",
    "print('testing images:')\n",
    "test_data = test_datagen.flow_from_directory(\n",
    "    test_dir,\n",
    "    target_size=IMAGE_SHAPE,\n",
    "    batch_size=BATCH_SIZE,\n",
    "    class_mode='categorical')"
   ]
  },
  {
   "cell_type": "code",
   "execution_count": 7,
   "metadata": {},
   "outputs": [],
   "source": [
    "import datetime\n",
    "from tensorflow.keras.callbacks import TensorBoard\n",
    "\n",
    "def create_tensorflow_callback(dir_name, experiment_name):\n",
    "    log_dir = dir_name + '/' + experiment_name + '/' + datetime.datetime.now().strftime('%Y_%m_%d-%H_%M_%S')\n",
    "    tensorboard_callback = TensorBoard(log_dir=log_dir)\n",
    "    print(f' saving tensorflow log files to {log_dir}')\n",
    "\n",
    "    return tensorboard_callback\n"
   ]
  },
  {
   "cell_type": "code",
   "execution_count": 8,
   "metadata": {},
   "outputs": [],
   "source": [
    "resnet_url = 'https://tfhub.dev/google/imagenet/resnet_v2_50/feature_vector/5'\n",
    "efficientnet_url = 'https://tfhub.dev/tensorflow/efficientnet/b0/feature-vector/1'"
   ]
  },
  {
   "cell_type": "code",
   "execution_count": 9,
   "metadata": {},
   "outputs": [],
   "source": [
    "import tensorflow as tf\n",
    "import tensorflow_hub as hub\n",
    "from tensorflow.keras import Sequential\n",
    "from tensorflow.keras.layers import Dense"
   ]
  },
  {
   "cell_type": "code",
   "execution_count": 10,
   "metadata": {},
   "outputs": [],
   "source": [
    "def create_model(model_url, num_classes=10):\n",
    "    \"\"\"\n",
    "    Takes tensorflow models from hub and creates model\n",
    "    \"\"\"\n",
    "\n",
    "    feature_extrator_layer = hub.KerasLayer(\n",
    "        model_url, \n",
    "        trainable=False, \n",
    "        name='feature_extration_layer',\n",
    "        input_shape=IMAGE_SHAPE+(3,))\n",
    "\n",
    "\n",
    "    model = Sequential([\n",
    "        feature_extrator_layer,\n",
    "        Dense(num_classes, activation='softmax', name='output_layer')])\n",
    "\n",
    "    return model\n"
   ]
  },
  {
   "cell_type": "code",
   "execution_count": 11,
   "metadata": {},
   "outputs": [
    {
     "name": "stderr",
     "output_type": "stream",
     "text": [
      "2021-12-20 17:06:34.807865: I tensorflow/core/platform/cpu_feature_guard.cc:151] This TensorFlow binary is optimized with oneAPI Deep Neural Network Library (oneDNN) to use the following CPU instructions in performance-critical operations:  AVX2 FMA\n",
      "To enable them in other operations, rebuild TensorFlow with the appropriate compiler flags.\n"
     ]
    }
   ],
   "source": [
    "resnet_model = create_model(resnet_url, num_classes=10)"
   ]
  },
  {
   "cell_type": "code",
   "execution_count": 12,
   "metadata": {},
   "outputs": [
    {
     "name": "stdout",
     "output_type": "stream",
     "text": [
      "Model: \"sequential\"\n",
      "_________________________________________________________________\n",
      " Layer (type)                Output Shape              Param #   \n",
      "=================================================================\n",
      " feature_extration_layer (Ke  (None, 2048)             23564800  \n",
      " rasLayer)                                                       \n",
      "                                                                 \n",
      " output_layer (Dense)        (None, 10)                20490     \n",
      "                                                                 \n",
      "=================================================================\n",
      "Total params: 23,585,290\n",
      "Trainable params: 20,490\n",
      "Non-trainable params: 23,564,800\n",
      "_________________________________________________________________\n"
     ]
    }
   ],
   "source": [
    "resnet_model.summary()"
   ]
  },
  {
   "cell_type": "code",
   "execution_count": 15,
   "metadata": {},
   "outputs": [],
   "source": [
    "from tensorflow.keras.losses import CategoricalCrossentropy\n",
    "from tensorflow.keras.optimizers import Adam\n",
    "\n",
    "resnet_model.compile(\n",
    "    loss=CategoricalCrossentropy(),\n",
    "    optimizer=Adam(),\n",
    "    metrics=['accuracy'])\n",
    "\n"
   ]
  },
  {
   "cell_type": "code",
   "execution_count": 16,
   "metadata": {},
   "outputs": [
    {
     "name": "stdout",
     "output_type": "stream",
     "text": [
      "Epoch 1/5\n",
      "24/24 [==============================] - 343s 14s/step - loss: 2.0195 - accuracy: 0.3427 - val_loss: 1.2342 - val_accuracy: 0.6104\n",
      "Epoch 2/5\n",
      "24/24 [==============================] - 272s 12s/step - loss: 0.9427 - accuracy: 0.7173 - val_loss: 0.8739 - val_accuracy: 0.7108\n",
      "Epoch 3/5\n",
      "24/24 [==============================] - 256s 11s/step - loss: 0.6424 - accuracy: 0.8120 - val_loss: 0.7580 - val_accuracy: 0.7548\n",
      "Epoch 4/5\n",
      "24/24 [==============================] - 243s 10s/step - loss: 0.4902 - accuracy: 0.8640 - val_loss: 0.7193 - val_accuracy: 0.7680\n",
      "Epoch 5/5\n",
      "24/24 [==============================] - 314s 14s/step - loss: 0.3945 - accuracy: 0.9067 - val_loss: 0.6850 - val_accuracy: 0.7764\n"
     ]
    },
    {
     "data": {
      "text/plain": [
       "<keras.callbacks.History at 0x14b4987c0>"
      ]
     },
     "execution_count": 16,
     "metadata": {},
     "output_type": "execute_result"
    }
   ],
   "source": [
    "resnet_model.fit(\n",
    "    train_data, \n",
    "    epochs=EPOCHS,\n",
    "    steps_per_epoch=len(train_data),\n",
    "    validation_data=test_data,\n",
    "    validation_batch_size=len(test_data),\n",
    "    callbacks=[create_tensorflow_callback('tensorflow_hub', 'resnet50V2')])"
   ]
  },
  {
   "cell_type": "code",
   "execution_count": null,
   "metadata": {},
   "outputs": [],
   "source": []
  },
  {
   "cell_type": "code",
   "execution_count": 17,
   "metadata": {},
   "outputs": [],
   "source": [
    "efficientnet_model = create_model(efficientnet_url, num_classes=10)"
   ]
  },
  {
   "cell_type": "code",
   "execution_count": 18,
   "metadata": {},
   "outputs": [
    {
     "name": "stdout",
     "output_type": "stream",
     "text": [
      "Model: \"sequential_1\"\n",
      "_________________________________________________________________\n",
      " Layer (type)                Output Shape              Param #   \n",
      "=================================================================\n",
      " feature_extration_layer (Ke  (None, 1280)             4049564   \n",
      " rasLayer)                                                       \n",
      "                                                                 \n",
      " output_layer (Dense)        (None, 10)                12810     \n",
      "                                                                 \n",
      "=================================================================\n",
      "Total params: 4,062,374\n",
      "Trainable params: 12,810\n",
      "Non-trainable params: 4,049,564\n",
      "_________________________________________________________________\n"
     ]
    }
   ],
   "source": [
    "efficientnet_model.summary()"
   ]
  },
  {
   "cell_type": "code",
   "execution_count": 19,
   "metadata": {},
   "outputs": [],
   "source": [
    "efficientnet_model.compile(\n",
    "    loss=CategoricalCrossentropy(),\n",
    "    optimizer=Adam(),\n",
    "    metrics=['accuracy'])"
   ]
  },
  {
   "cell_type": "code",
   "execution_count": 20,
   "metadata": {},
   "outputs": [
    {
     "name": "stdout",
     "output_type": "stream",
     "text": [
      " saving tensorflow log files to tensorflow_hub/efficientnet0/2021_12_20-17_32_51\n",
      "Epoch 1/5\n",
      "24/24 [==============================] - 193s 8s/step - loss: 1.8398 - accuracy: 0.4280 - val_loss: 1.2902 - val_accuracy: 0.7448\n",
      "Epoch 2/5\n",
      "24/24 [==============================] - 154s 7s/step - loss: 1.0409 - accuracy: 0.7787 - val_loss: 0.8585 - val_accuracy: 0.8288\n",
      "Epoch 3/5\n",
      "24/24 [==============================] - 150s 6s/step - loss: 0.7353 - accuracy: 0.8507 - val_loss: 0.6886 - val_accuracy: 0.8484\n",
      "Epoch 4/5\n",
      "24/24 [==============================] - 164s 7s/step - loss: 0.5922 - accuracy: 0.8733 - val_loss: 0.6076 - val_accuracy: 0.8552\n",
      "Epoch 5/5\n",
      "24/24 [==============================] - 163s 7s/step - loss: 0.4989 - accuracy: 0.8920 - val_loss: 0.5542 - val_accuracy: 0.8624\n"
     ]
    },
    {
     "data": {
      "text/plain": [
       "<keras.callbacks.History at 0x14b6360a0>"
      ]
     },
     "execution_count": 20,
     "metadata": {},
     "output_type": "execute_result"
    }
   ],
   "source": [
    "efficientnet_model.fit(\n",
    "    train_data, \n",
    "    epochs=EPOCHS,\n",
    "    steps_per_epoch=len(train_data),\n",
    "    validation_data=test_data,\n",
    "    validation_batch_size=len(test_data),\n",
    "    callbacks=[create_tensorflow_callback('tensorflow_hub', 'efficientnet0')])"
   ]
  },
  {
   "cell_type": "code",
   "execution_count": null,
   "metadata": {},
   "outputs": [],
   "source": []
  }
 ],
 "metadata": {
  "interpreter": {
   "hash": "36df54c7c19faff1271b8d3e5197b7793203309142e2d56aea3a2568f64a033a"
  },
  "kernelspec": {
   "display_name": "Python 3.8.2 64-bit ('.venv': venv)",
   "language": "python",
   "name": "python3"
  },
  "language_info": {
   "codemirror_mode": {
    "name": "ipython",
    "version": 3
   },
   "file_extension": ".py",
   "mimetype": "text/x-python",
   "name": "python",
   "nbconvert_exporter": "python",
   "pygments_lexer": "ipython3",
   "version": "3.8.2"
  },
  "orig_nbformat": 4
 },
 "nbformat": 4,
 "nbformat_minor": 2
}
